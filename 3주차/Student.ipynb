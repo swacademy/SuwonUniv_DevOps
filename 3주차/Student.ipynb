{
 "cells": [
  {
   "cell_type": "code",
   "execution_count": 2,
   "id": "ec8f584a",
   "metadata": {},
   "outputs": [],
   "source": [
    "class Student :\n",
    "    __name = __kor = __eng = __math = __tot = __avg = __grade = None\n",
    "    def __init__(self, name, kor, eng, math):  \n",
    "        \"\"\"Student class의 Constructor\"\"\"\n",
    "        Student.__name = name\n",
    "        Student.__kor = kor\n",
    "        Student.__eng = eng\n",
    "        Student.__math = math\n",
    "        \n",
    "    @property\n",
    "    def name(self): return Student.__name\n",
    "    @property\n",
    "    def kor(self):return Student.__kor\n",
    "    @property\n",
    "    def eng (self):return Student.__eng\n",
    "    @property\n",
    "    def math (self):return Student.__math\n",
    "    @property\n",
    "    def tot(self):return Student.__tot\n",
    "    @property\n",
    "    def avg(self):return Student.__avg\n",
    "    @property\n",
    "    def grade(self):return Student.__grade\n",
    "    @tot.setter\n",
    "    def tot(self, tot): Student.__tot = tot\n",
    "    @avg.setter\n",
    "    def avg(self, avg): Student.__avg = avg\n",
    "    @grade.setter\n",
    "    def grade(self, grade): Student.__grade = grade"
   ]
  }
 ],
 "metadata": {
  "kernelspec": {
   "display_name": "Python 3 (ipykernel)",
   "language": "python",
   "name": "python3"
  },
  "language_info": {
   "codemirror_mode": {
    "name": "ipython",
    "version": 3
   },
   "file_extension": ".py",
   "mimetype": "text/x-python",
   "name": "python",
   "nbconvert_exporter": "python",
   "pygments_lexer": "ipython3",
   "version": "3.10.6"
  }
 },
 "nbformat": 4,
 "nbformat_minor": 5
}
