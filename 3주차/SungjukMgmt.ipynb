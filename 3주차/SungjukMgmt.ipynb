{
 "cells": [
  {
   "cell_type": "code",
   "execution_count": 1,
   "id": "3b5e7373",
   "metadata": {},
   "outputs": [
    {
     "name": "stdout",
     "output_type": "stream",
     "text": [
      "[NbConvertApp] Converting notebook Student.ipynb to script\n",
      "[NbConvertApp] Writing 922 bytes to Student.py\n"
     ]
    }
   ],
   "source": [
    "import student_input, student_calc, student_output, Student"
   ]
  },
  {
   "cell_type": "code",
   "execution_count": 2,
   "id": "63270b84",
   "metadata": {},
   "outputs": [
    {
     "name": "stdout",
     "output_type": "stream",
     "text": [
      "Program is start...\n",
      "이름 : 곽지민\n",
      "국어 : 100\n",
      "영어 : 99\n",
      "수학 : 88\n",
      "곽지민       \t  100\t   99\t   88\t       287\t     95.67\tA         \n",
      "Program is over...\n"
     ]
    }
   ],
   "source": [
    "if __name__ == '__main__':\n",
    "    print('Program is start...')\n",
    "    student = student_input.student_input()\n",
    "    student_calc.student_calc(student)\n",
    "    student_output.student_output(student)\n",
    "    print('Program is over...')"
   ]
  }
 ],
 "metadata": {
  "kernelspec": {
   "display_name": "Python 3 (ipykernel)",
   "language": "python",
   "name": "python3"
  },
  "language_info": {
   "codemirror_mode": {
    "name": "ipython",
    "version": 3
   },
   "file_extension": ".py",
   "mimetype": "text/x-python",
   "name": "python",
   "nbconvert_exporter": "python",
   "pygments_lexer": "ipython3",
   "version": "3.10.6"
  }
 },
 "nbformat": 4,
 "nbformat_minor": 5
}
