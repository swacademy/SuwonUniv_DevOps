{
 "cells": [
  {
   "cell_type": "code",
   "execution_count": 1,
   "id": "1f646da8",
   "metadata": {},
   "outputs": [],
   "source": [
    "def student_calc(student):\n",
    "    student.tot = student.kor + student.eng + student.math\n",
    "    student.avg = student.tot / 3.\n",
    "    if 90 <= student.avg <= 100 : student.grade = 'A'\n",
    "    elif 80 <= student.avg < 90 : student.grade = 'B'\n",
    "    elif 70 <= student.avg < 80 : student.grade = 'C'\n",
    "    elif 60 <= student.avg < 70 : student.grade = 'D'\n",
    "    else : student.grade = 'F'"
   ]
  }
 ],
 "metadata": {
  "kernelspec": {
   "display_name": "Python 3 (ipykernel)",
   "language": "python",
   "name": "python3"
  },
  "language_info": {
   "codemirror_mode": {
    "name": "ipython",
    "version": 3
   },
   "file_extension": ".py",
   "mimetype": "text/x-python",
   "name": "python",
   "nbconvert_exporter": "python",
   "pygments_lexer": "ipython3",
   "version": "3.10.6"
  }
 },
 "nbformat": 4,
 "nbformat_minor": 5
}
