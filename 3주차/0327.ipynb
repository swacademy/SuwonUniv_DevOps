{
 "cells": [
  {
   "cell_type": "code",
   "execution_count": 4,
   "id": "6fd45325",
   "metadata": {},
   "outputs": [
    {
     "name": "stdout",
     "output_type": "stream",
     "text": [
      "Requirement already satisfied: nbconvert in ./lib/python3.10/site-packages (7.2.10)\n",
      "Requirement already satisfied: bleach in ./lib/python3.10/site-packages (from nbconvert) (6.0.0)\n",
      "Requirement already satisfied: mistune<3,>=2.0.3 in ./lib/python3.10/site-packages (from nbconvert) (2.0.5)\n",
      "Requirement already satisfied: markupsafe>=2.0 in ./lib/python3.10/site-packages (from nbconvert) (2.1.2)\n",
      "Requirement already satisfied: pandocfilters>=1.4.1 in ./lib/python3.10/site-packages (from nbconvert) (1.5.0)\n",
      "Requirement already satisfied: beautifulsoup4 in ./lib/python3.10/site-packages (from nbconvert) (4.11.2)\n",
      "Requirement already satisfied: tinycss2 in ./lib/python3.10/site-packages (from nbconvert) (1.2.1)\n",
      "Requirement already satisfied: nbclient>=0.5.0 in ./lib/python3.10/site-packages (from nbconvert) (0.7.2)\n",
      "Requirement already satisfied: pygments>=2.4.1 in ./lib/python3.10/site-packages (from nbconvert) (2.14.0)\n",
      "Requirement already satisfied: traitlets>=5.0 in ./lib/python3.10/site-packages (from nbconvert) (5.9.0)\n",
      "Requirement already satisfied: jupyterlab-pygments in ./lib/python3.10/site-packages (from nbconvert) (0.2.2)\n",
      "Requirement already satisfied: nbformat>=5.1 in ./lib/python3.10/site-packages (from nbconvert) (5.7.3)\n",
      "Requirement already satisfied: packaging in ./lib/python3.10/site-packages (from nbconvert) (23.0)\n",
      "Requirement already satisfied: jinja2>=3.0 in ./lib/python3.10/site-packages (from nbconvert) (3.1.2)\n",
      "Requirement already satisfied: jupyter-core>=4.7 in ./lib/python3.10/site-packages (from nbconvert) (5.3.0)\n",
      "Requirement already satisfied: defusedxml in ./lib/python3.10/site-packages (from nbconvert) (0.7.1)\n",
      "Requirement already satisfied: platformdirs>=2.5 in ./lib/python3.10/site-packages (from jupyter-core>=4.7->nbconvert) (3.1.1)\n",
      "Requirement already satisfied: jupyter-client>=6.1.12 in ./lib/python3.10/site-packages (from nbclient>=0.5.0->nbconvert) (8.0.3)\n",
      "Requirement already satisfied: fastjsonschema in ./lib/python3.10/site-packages (from nbformat>=5.1->nbconvert) (2.16.3)\n",
      "Requirement already satisfied: jsonschema>=2.6 in ./lib/python3.10/site-packages (from nbformat>=5.1->nbconvert) (4.17.3)\n",
      "Requirement already satisfied: soupsieve>1.2 in ./lib/python3.10/site-packages (from beautifulsoup4->nbconvert) (2.4)\n",
      "Requirement already satisfied: six>=1.9.0 in ./lib/python3.10/site-packages (from bleach->nbconvert) (1.16.0)\n",
      "Requirement already satisfied: webencodings in ./lib/python3.10/site-packages (from bleach->nbconvert) (0.5.1)\n",
      "Requirement already satisfied: pyrsistent!=0.17.0,!=0.17.1,!=0.17.2,>=0.14.0 in ./lib/python3.10/site-packages (from jsonschema>=2.6->nbformat>=5.1->nbconvert) (0.19.3)\n",
      "Requirement already satisfied: attrs>=17.4.0 in ./lib/python3.10/site-packages (from jsonschema>=2.6->nbformat>=5.1->nbconvert) (22.2.0)\n",
      "Requirement already satisfied: pyzmq>=23.0 in ./lib/python3.10/site-packages (from jupyter-client>=6.1.12->nbclient>=0.5.0->nbconvert) (25.0.1)\n",
      "Requirement already satisfied: tornado>=6.2 in ./lib/python3.10/site-packages (from jupyter-client>=6.1.12->nbclient>=0.5.0->nbconvert) (6.2)\n",
      "Requirement already satisfied: python-dateutil>=2.8.2 in ./lib/python3.10/site-packages (from jupyter-client>=6.1.12->nbclient>=0.5.0->nbconvert) (2.8.2)\n"
     ]
    }
   ],
   "source": [
    "!pip install nbconvert"
   ]
  },
  {
   "cell_type": "code",
   "execution_count": 5,
   "id": "7bf88677",
   "metadata": {},
   "outputs": [
    {
     "name": "stdout",
     "output_type": "stream",
     "text": [
      "Package                  Version\n",
      "------------------------ -------\n",
      "anyio                    3.6.2\n",
      "argon2-cffi              21.3.0\n",
      "argon2-cffi-bindings     21.2.0\n",
      "arrow                    1.2.3\n",
      "asttokens                2.2.1\n",
      "attrs                    22.2.0\n",
      "backcall                 0.2.0\n",
      "beautifulsoup4           4.11.2\n",
      "bleach                   6.0.0\n",
      "cffi                     1.15.1\n",
      "comm                     0.1.2\n",
      "debugpy                  1.6.6\n",
      "decorator                5.1.1\n",
      "defusedxml               0.7.1\n",
      "executing                1.2.0\n",
      "fastjsonschema           2.16.3\n",
      "fqdn                     1.5.1\n",
      "idna                     3.4\n",
      "ipykernel                6.21.3\n",
      "ipython                  8.11.0\n",
      "ipython-genutils         0.2.0\n",
      "ipywidgets               8.0.4\n",
      "isoduration              20.11.0\n",
      "jedi                     0.18.2\n",
      "Jinja2                   3.1.2\n",
      "jsonpointer              2.3\n",
      "jsonschema               4.17.3\n",
      "jupyter                  1.0.0\n",
      "jupyter_client           8.0.3\n",
      "jupyter-console          6.6.3\n",
      "jupyter_core             5.3.0\n",
      "jupyter-events           0.6.3\n",
      "jupyter_server           2.5.0\n",
      "jupyter_server_terminals 0.4.4\n",
      "jupyterlab-pygments      0.2.2\n",
      "jupyterlab-widgets       3.0.5\n",
      "MarkupSafe               2.1.2\n",
      "matplotlib-inline        0.1.6\n",
      "mistune                  2.0.5\n",
      "nbclassic                0.5.3\n",
      "nbclient                 0.7.2\n",
      "nbconvert                7.2.10\n",
      "nbformat                 5.7.3\n",
      "nest-asyncio             1.5.6\n",
      "notebook                 6.5.3\n",
      "notebook_shim            0.2.2\n",
      "packaging                23.0\n",
      "pandocfilters            1.5.0\n",
      "parso                    0.8.3\n",
      "pexpect                  4.8.0\n",
      "pickleshare              0.7.5\n",
      "pip                      23.0.1\n",
      "platformdirs             3.1.1\n",
      "prometheus-client        0.16.0\n",
      "prompt-toolkit           3.0.38\n",
      "psutil                   5.9.4\n",
      "ptyprocess               0.7.0\n",
      "pure-eval                0.2.2\n",
      "pycparser                2.21\n",
      "Pygments                 2.14.0\n",
      "pyrsistent               0.19.3\n",
      "python-dateutil          2.8.2\n",
      "python-json-logger       2.0.7\n",
      "PyYAML                   6.0\n",
      "pyzmq                    25.0.1\n",
      "qtconsole                5.4.1\n",
      "QtPy                     2.3.0\n",
      "rfc3339-validator        0.1.4\n",
      "rfc3986-validator        0.1.1\n",
      "Send2Trash               1.8.0\n",
      "setuptools               67.4.0\n",
      "six                      1.16.0\n",
      "sniffio                  1.3.0\n",
      "soupsieve                2.4\n",
      "stack-data               0.6.2\n",
      "terminado                0.17.1\n",
      "tinycss2                 1.2.1\n",
      "tornado                  6.2\n",
      "traitlets                5.9.0\n",
      "uri-template             1.2.0\n",
      "wcwidth                  0.2.6\n",
      "webcolors                1.12\n",
      "webencodings             0.5.1\n",
      "websocket-client         1.5.1\n",
      "wheel                    0.38.4\n",
      "widgetsnbextension       4.0.5\n"
     ]
    }
   ],
   "source": [
    "!pip list"
   ]
  },
  {
   "cell_type": "code",
   "execution_count": 14,
   "id": "aaf8d9be",
   "metadata": {},
   "outputs": [
    {
     "name": "stdout",
     "output_type": "stream",
     "text": [
      "[NbConvertApp] Converting notebook student_input.ipynb to script\n",
      "[NbConvertApp] Writing 356 bytes to student_input.py\n",
      "[NbConvertApp] Converting notebook student_calc.ipynb to script\n",
      "[NbConvertApp] Writing 419 bytes to student_calc.py\n",
      "[NbConvertApp] Converting notebook student_output.ipynb to script\n",
      "[NbConvertApp] Writing 368 bytes to student_output.py\n"
     ]
    }
   ],
   "source": [
    "!jupyter nbconvert student_input.ipynb --to script\n",
    "!jupyter nbconvert student_calc.ipynb --to script\n",
    "!jupyter nbconvert student_output.ipynb --to script"
   ]
  },
  {
   "cell_type": "code",
   "execution_count": 12,
   "id": "ddefbd6e",
   "metadata": {},
   "outputs": [
    {
     "name": "stdout",
     "output_type": "stream",
     "text": [
      "0327.ipynb\t   etc\t       student_calc.ipynb   student_output.ipynb\r\n",
      "SungjukMgmt.ipynb  lib\t       student_calc.py\t    student_output.py\r\n",
      "__pycache__\t   pyvenv.cfg  student_input.ipynb\r\n",
      "bin\t\t   share       student_input.py\r\n"
     ]
    }
   ],
   "source": [
    "!ls"
   ]
  },
  {
   "cell_type": "code",
   "execution_count": null,
   "id": "be30b05e",
   "metadata": {},
   "outputs": [],
   "source": []
  }
 ],
 "metadata": {
  "kernelspec": {
   "display_name": "Python 3 (ipykernel)",
   "language": "python",
   "name": "python3"
  },
  "language_info": {
   "codemirror_mode": {
    "name": "ipython",
    "version": 3
   },
   "file_extension": ".py",
   "mimetype": "text/x-python",
   "name": "python",
   "nbconvert_exporter": "python",
   "pygments_lexer": "ipython3",
   "version": "3.10.6"
  }
 },
 "nbformat": 4,
 "nbformat_minor": 5
}
