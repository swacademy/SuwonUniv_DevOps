{
 "cells": [
  {
   "cell_type": "code",
   "execution_count": 1,
   "id": "f98a5ae3",
   "metadata": {},
   "outputs": [],
   "source": [
    "def student_output(student):\n",
    "    print(f\"{student.name:<10s}\\t\", end='')\n",
    "    print(f\"{student.kor:5d}\\t\", end='')\n",
    "    print(f\"{student.eng:5d}\\t\", end='')\n",
    "    print(f\"{student.math:5d}\\t\", end='')\n",
    "    print(f\"{student.tot:10d}\\t\", end='')\n",
    "    print(f\"{student.avg:10.2f}\\t\", end='')\n",
    "    print(f\"{student.grade:10s}\")"
   ]
  }
 ],
 "metadata": {
  "kernelspec": {
   "display_name": "Python 3 (ipykernel)",
   "language": "python",
   "name": "python3"
  },
  "language_info": {
   "codemirror_mode": {
    "name": "ipython",
    "version": 3
   },
   "file_extension": ".py",
   "mimetype": "text/x-python",
   "name": "python",
   "nbconvert_exporter": "python",
   "pygments_lexer": "ipython3",
   "version": "3.10.6"
  }
 },
 "nbformat": 4,
 "nbformat_minor": 5
}
