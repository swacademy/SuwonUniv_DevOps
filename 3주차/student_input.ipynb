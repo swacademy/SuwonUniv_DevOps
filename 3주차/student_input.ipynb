{
 "cells": [
  {
   "cell_type": "code",
   "execution_count": 1,
   "id": "5295cb76",
   "metadata": {},
   "outputs": [
    {
     "name": "stdout",
     "output_type": "stream",
     "text": [
      "[NbConvertApp] Converting notebook Student.ipynb to script\n",
      "[NbConvertApp] Writing 922 bytes to Student.py\n"
     ]
    }
   ],
   "source": [
    "!jupyter nbconvert Student.ipynb --to script"
   ]
  },
  {
   "cell_type": "code",
   "execution_count": 2,
   "id": "4c58537c",
   "metadata": {},
   "outputs": [],
   "source": [
    "import Student\n",
    "def student_input():\n",
    "    name = input('이름 : ')\n",
    "    kor = int(input('국어 : '))\n",
    "    eng = int(input('영어 : '))\n",
    "    math = int(input('수학 : '))\n",
    "    student = Student.Student(name, kor, eng, math)\n",
    "    return student"
   ]
  }
 ],
 "metadata": {
  "kernelspec": {
   "display_name": "Python 3 (ipykernel)",
   "language": "python",
   "name": "python3"
  },
  "language_info": {
   "codemirror_mode": {
    "name": "ipython",
    "version": 3
   },
   "file_extension": ".py",
   "mimetype": "text/x-python",
   "name": "python",
   "nbconvert_exporter": "python",
   "pygments_lexer": "ipython3",
   "version": "3.10.6"
  }
 },
 "nbformat": 4,
 "nbformat_minor": 5
}
